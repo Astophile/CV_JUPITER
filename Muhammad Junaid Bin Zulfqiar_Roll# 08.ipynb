{
 "cells": [
  {
   "cell_type": "markdown",
   "id": "1776f63f",
   "metadata": {},
   "source": [
    "### Assignment-02\n",
    "- Change the notebook name with your name and Roll Number.\n",
    "- Try this as your own, no chatgpt (it's for your learning)\n",
    "- after completing the assignment, submit this book on google class room."
   ]
  },
  {
   "cell_type": "markdown",
   "id": "5bc28c35",
   "metadata": {},
   "source": [
    "Declare and print a variable with the name \"name\" containing your name.\n"
   ]
  },
  {
   "cell_type": "code",
   "execution_count": 8,
   "id": "4eb1e464",
   "metadata": {},
   "outputs": [
    {
     "data": {
      "text/plain": [
       "'Junaid Bin Zulfiqar'"
      ]
     },
     "execution_count": 8,
     "metadata": {},
     "output_type": "execute_result"
    }
   ],
   "source": [
    "name = \"Junaid Bin Zulfiqar\"\n",
    "name"
   ]
  },
  {
   "cell_type": "markdown",
   "id": "b66e672b",
   "metadata": {},
   "source": [
    "Create two variables, x and y, and swap their values without using a third variable.\n"
   ]
  },
  {
   "cell_type": "code",
   "execution_count": 17,
   "id": "5734b25c",
   "metadata": {},
   "outputs": [
    {
     "name": "stdout",
     "output_type": "stream",
     "text": [
      "x: 2 y: 1\n"
     ]
    }
   ],
   "source": [
    "x = 1\n",
    "y = 2\n",
    "\n",
    "x, y = y, x\n",
    "\n",
    "print(\"x:\",x, \"y:\",y)\n"
   ]
  },
  {
   "cell_type": "markdown",
   "id": "68c5f126",
   "metadata": {},
   "source": [
    "Calculate the area of a rectangle with length and width stored in variables.\n"
   ]
  },
  {
   "cell_type": "code",
   "execution_count": 28,
   "id": "efead34a",
   "metadata": {},
   "outputs": [
    {
     "name": "stdout",
     "output_type": "stream",
     "text": [
      "Area:  20\n"
     ]
    }
   ],
   "source": [
    "L= 5\n",
    "W= 4\n",
    "Area = L * W\n",
    "print (\"Area: \",Area)"
   ]
  },
  {
   "cell_type": "markdown",
   "id": "e452ae4d",
   "metadata": {},
   "source": [
    "Create a variable with a long string (multi-line) and print its length."
   ]
  },
  {
   "cell_type": "code",
   "execution_count": 31,
   "id": "0f7d6636",
   "metadata": {},
   "outputs": [
    {
     "data": {
      "text/plain": [
       "66"
      ]
     },
     "execution_count": 31,
     "metadata": {},
     "output_type": "execute_result"
    }
   ],
   "source": [
    "Var1 = \"\"\"My name is Junaid , \n",
    "          Age 24\n",
    "        University of Punjab\"\"\"\n",
    "len(Var1)"
   ]
  },
  {
   "cell_type": "markdown",
   "id": "708def01",
   "metadata": {},
   "source": [
    "Create a variable to store your favorite number and print it."
   ]
  },
  {
   "cell_type": "code",
   "execution_count": 32,
   "id": "d810e261",
   "metadata": {},
   "outputs": [
    {
     "data": {
      "text/plain": [
       "23"
      ]
     },
     "execution_count": 32,
     "metadata": {},
     "output_type": "execute_result"
    }
   ],
   "source": [
    "x = 23\n",
    "x"
   ]
  },
  {
   "cell_type": "markdown",
   "id": "9088a41e",
   "metadata": {},
   "source": [
    "Declare and assign values to multiple variables to represent the sides of a triangle. Calculate and print its perimeter.\n"
   ]
  },
  {
   "cell_type": "code",
   "execution_count": 37,
   "id": "13d9d2d2",
   "metadata": {},
   "outputs": [
    {
     "name": "stdout",
     "output_type": "stream",
     "text": [
      "Perimeter:  10\n"
     ]
    }
   ],
   "source": [
    "side1 = 2\n",
    "side2 = 3\n",
    "side3 = 5\n",
    "\n",
    "Perimeter = side1+side2+side3\n",
    "\n",
    "print (\"Perimeter: \",Perimeter) "
   ]
  },
  {
   "cell_type": "markdown",
   "id": "a76f2d4f",
   "metadata": {},
   "source": [
    "Store the price of an item in one variable and the quantity in another. Calculate and print the total cost.\n"
   ]
  },
  {
   "cell_type": "code",
   "execution_count": 40,
   "id": "8cc9115b",
   "metadata": {},
   "outputs": [
    {
     "name": "stdout",
     "output_type": "stream",
     "text": [
      "Cost of milk:  500\n"
     ]
    }
   ],
   "source": [
    "Price_of_milk = 100\n",
    "Quantity_of_milk = 5 \n",
    "Total_Cost =   Price_of_milk * Quantity_of_milk\n",
    "print(\"Cost of milk: \",Total_Cost)"
   ]
  },
  {
   "cell_type": "markdown",
   "id": "7d9d0793",
   "metadata": {},
   "source": [
    "Declare a constant variable for the value of pi (π) and use it to calculate the circumference of a circle with a given radius."
   ]
  },
  {
   "cell_type": "code",
   "execution_count": 41,
   "id": "254f3e92",
   "metadata": {},
   "outputs": [
    {
     "name": "stdout",
     "output_type": "stream",
     "text": [
      "circumference is:  31.400000000000002\n"
     ]
    }
   ],
   "source": [
    "pie = 3.14\n",
    "rad = 5\n",
    "circumference = 2 * (pie * rad)\n",
    "print(\"circumference is: \",circumference)"
   ]
  },
  {
   "cell_type": "markdown",
   "id": "2415eca0",
   "metadata": {},
   "source": [
    "Calculate the sum of two numbers, a and b."
   ]
  },
  {
   "cell_type": "code",
   "execution_count": 42,
   "id": "8eeee19d",
   "metadata": {},
   "outputs": [
    {
     "name": "stdout",
     "output_type": "stream",
     "text": [
      "Sum : 4\n"
     ]
    }
   ],
   "source": [
    "a = 2\n",
    "b = 2\n",
    "\n",
    "sum = a + b\n",
    "\n",
    "print (\"Sum :\", sum)"
   ]
  },
  {
   "cell_type": "markdown",
   "id": "2f3f9653",
   "metadata": {},
   "source": [
    "Calculate the product of two numbers, a and b.\n"
   ]
  },
  {
   "cell_type": "code",
   "execution_count": 43,
   "id": "baac0709",
   "metadata": {},
   "outputs": [
    {
     "name": "stdout",
     "output_type": "stream",
     "text": [
      "Product : 4\n"
     ]
    }
   ],
   "source": [
    "a = 2\n",
    "b = 2\n",
    "\n",
    "product = a * b\n",
    "\n",
    "print (\"Product :\", product)"
   ]
  },
  {
   "cell_type": "markdown",
   "id": "263bb83b",
   "metadata": {},
   "source": [
    "Calculate the result of dividing a by b (with proper error handling for division by zero).\n"
   ]
  },
  {
   "cell_type": "code",
   "execution_count": 53,
   "id": "783ef794",
   "metadata": {},
   "outputs": [
    {
     "name": "stdout",
     "output_type": "stream",
     "text": [
      "Divsion by zero is not applicable\n"
     ]
    }
   ],
   "source": [
    "a = 10\n",
    "b = 0\n",
    "\n",
    "if b!= 0 :\n",
    "    Div = a/b\n",
    "    print (\"Division: \", Div)\n",
    "\n",
    "else :\n",
    "    print(\"Divsion by zero is not applicable\")\n"
   ]
  },
  {
   "cell_type": "markdown",
   "id": "1160a016",
   "metadata": {},
   "source": [
    "Calculate the square of a number x."
   ]
  },
  {
   "cell_type": "code",
   "execution_count": 60,
   "id": "ba1443de",
   "metadata": {},
   "outputs": [
    {
     "data": {
      "text/plain": [
       "25"
      ]
     },
     "execution_count": 60,
     "metadata": {},
     "output_type": "execute_result"
    }
   ],
   "source": [
    "x = 5\n",
    "square = x**2\n",
    "square\n"
   ]
  },
  {
   "cell_type": "markdown",
   "id": "927cffd3",
   "metadata": {},
   "source": [
    "Calculate the remainder when a is divided by b."
   ]
  },
  {
   "cell_type": "code",
   "execution_count": 65,
   "id": "f95b1e5c",
   "metadata": {},
   "outputs": [
    {
     "name": "stdout",
     "output_type": "stream",
     "text": [
      "Reminder is:  3\n"
     ]
    }
   ],
   "source": [
    "a = 123 \n",
    "b = 5\n",
    "\n",
    "reminder = a%b\n",
    "print (\"Reminder is: \",reminder)"
   ]
  },
  {
   "cell_type": "markdown",
   "id": "fad0381a",
   "metadata": {},
   "source": [
    " Calculate the result of dividing 17 by 3 and print the quotient and remainder."
   ]
  },
  {
   "cell_type": "code",
   "execution_count": 66,
   "id": "6bbe2ffb",
   "metadata": {},
   "outputs": [
    {
     "name": "stdout",
     "output_type": "stream",
     "text": [
      "Quotient is : 5.666666666666667 Reminder is:  2\n"
     ]
    }
   ],
   "source": [
    "a= 17\n",
    "b= 3\n",
    "\n",
    "Quotient =  a/b\n",
    "Reminder =  a%b\n",
    "\n",
    "print(\"Quotient is :\", Quotient, \"Reminder is: \",Reminder)"
   ]
  },
  {
   "cell_type": "markdown",
   "id": "0abdb0ba",
   "metadata": {},
   "source": [
    "Calculate the area of a square with a given side length.\n"
   ]
  },
  {
   "cell_type": "code",
   "execution_count": 67,
   "id": "4a0edefb",
   "metadata": {},
   "outputs": [
    {
     "data": {
      "text/plain": [
       "16"
      ]
     },
     "execution_count": 67,
     "metadata": {},
     "output_type": "execute_result"
    }
   ],
   "source": [
    "side = 4\n",
    "\n",
    "Area = side*4\n",
    "\n",
    "Area"
   ]
  },
  {
   "cell_type": "markdown",
   "id": "0c15704a",
   "metadata": {},
   "source": [
    "Calculate the average of five numbers.\n"
   ]
  },
  {
   "cell_type": "code",
   "execution_count": 69,
   "id": "ae66922d",
   "metadata": {},
   "outputs": [
    {
     "data": {
      "text/plain": [
       "11.0"
      ]
     },
     "execution_count": 69,
     "metadata": {},
     "output_type": "execute_result"
    }
   ],
   "source": [
    "n1 = 1\n",
    "n2 = 2\n",
    "n3 = 3\n",
    "n4 = 4\n",
    "n5 = 5\n",
    "\n",
    "avg = n1+n2+n3+n4+n5/5\n",
    "avg"
   ]
  },
  {
   "cell_type": "markdown",
   "id": "da3cde84",
   "metadata": {},
   "source": [
    "Create a variable with a boolean value and print its opposite value.\n"
   ]
  },
  {
   "cell_type": "code",
   "execution_count": 79,
   "id": "0bb430b5",
   "metadata": {},
   "outputs": [
    {
     "name": "stdout",
     "output_type": "stream",
     "text": [
      "Opposite value of x is:  False\n"
     ]
    }
   ],
   "source": [
    "x = True\n",
    "print(\"Opposite value of x is: \",x == -1)"
   ]
  },
  {
   "cell_type": "markdown",
   "id": "d800b510",
   "metadata": {},
   "source": [
    "Store your birth year in a variable and calculate your age."
   ]
  },
  {
   "cell_type": "code",
   "execution_count": 81,
   "id": "94ac0a22",
   "metadata": {},
   "outputs": [
    {
     "data": {
      "text/plain": [
       "23"
      ]
     },
     "execution_count": 81,
     "metadata": {},
     "output_type": "execute_result"
    }
   ],
   "source": [
    "my_birthyear = 2000\n",
    "current_year = 2023\n",
    "\n",
    "age = (current_year - my_birthyear)\n",
    "age"
   ]
  },
  {
   "cell_type": "markdown",
   "id": "193bd0c7",
   "metadata": {},
   "source": [
    "Create a variable with an integer and convert it to a float."
   ]
  },
  {
   "cell_type": "code",
   "execution_count": 82,
   "id": "9199025a",
   "metadata": {},
   "outputs": [
    {
     "data": {
      "text/plain": [
       "int"
      ]
     },
     "execution_count": 82,
     "metadata": {},
     "output_type": "execute_result"
    }
   ],
   "source": [
    "a = 5\n",
    "type(a), a"
   ]
  },
  {
   "cell_type": "code",
   "execution_count": 86,
   "id": "c862dfa4",
   "metadata": {},
   "outputs": [
    {
     "data": {
      "text/plain": [
       "(float, 5.0)"
      ]
     },
     "execution_count": 86,
     "metadata": {},
     "output_type": "execute_result"
    }
   ],
   "source": [
    "b = float(a)\n",
    "type(b), b"
   ]
  },
  {
   "cell_type": "markdown",
   "id": "d6e985ae",
   "metadata": {},
   "source": [
    "Create a variable with a float and convert it to an integer."
   ]
  },
  {
   "cell_type": "code",
   "execution_count": 88,
   "id": "db782f94",
   "metadata": {},
   "outputs": [
    {
     "data": {
      "text/plain": [
       "(int, 5)"
      ]
     },
     "execution_count": 88,
     "metadata": {},
     "output_type": "execute_result"
    }
   ],
   "source": [
    "c = 5.4\n",
    "d = int(c)\n",
    "type(d), d"
   ]
  },
  {
   "cell_type": "markdown",
   "id": "03fbd24c",
   "metadata": {},
   "source": [
    "Create a variable with a string that represents an integer and convert it to an integer."
   ]
  },
  {
   "cell_type": "code",
   "execution_count": 90,
   "id": "15e98a9c",
   "metadata": {},
   "outputs": [
    {
     "data": {
      "text/plain": [
       "(int, 5)"
      ]
     },
     "execution_count": 90,
     "metadata": {},
     "output_type": "execute_result"
    }
   ],
   "source": [
    "string = \"5\"\n",
    "integer = int(string)\n",
    "type(integer), integer"
   ]
  },
  {
   "cell_type": "markdown",
   "id": "7b82ee26",
   "metadata": {},
   "source": [
    "Create a variable with a string that represents a float and convert it to a float.\n"
   ]
  },
  {
   "cell_type": "code",
   "execution_count": 92,
   "id": "31b96ee5",
   "metadata": {},
   "outputs": [
    {
     "data": {
      "text/plain": [
       "(float, 5.4)"
      ]
     },
     "execution_count": 92,
     "metadata": {},
     "output_type": "execute_result"
    }
   ],
   "source": [
    "string = \"5.4\"\n",
    "float_num = float(string)\n",
    "type(float_num), float_num"
   ]
  },
  {
   "cell_type": "markdown",
   "id": "55b70302",
   "metadata": {},
   "source": [
    "Create a variable with a number and convert it to a string."
   ]
  },
  {
   "cell_type": "code",
   "execution_count": 93,
   "id": "191ca6c0",
   "metadata": {},
   "outputs": [
    {
     "data": {
      "text/plain": [
       "(str, '544')"
      ]
     },
     "execution_count": 93,
     "metadata": {},
     "output_type": "execute_result"
    }
   ],
   "source": [
    "a = 544\n",
    "string = str(a)\n",
    "type(string), string"
   ]
  },
  {
   "cell_type": "markdown",
   "id": "12030234",
   "metadata": {},
   "source": [
    "Calculate the absolute value of a number.\n",
    "\n"
   ]
  },
  {
   "cell_type": "code",
   "execution_count": 97,
   "id": "e6e2dbb2",
   "metadata": {},
   "outputs": [
    {
     "name": "stdout",
     "output_type": "stream",
     "text": [
      "absolute value :  8\n"
     ]
    }
   ],
   "source": [
    "n = -8\n",
    "absolute = abs(n)\n",
    "print(\"absolute value : \",absolute)"
   ]
  },
  {
   "cell_type": "markdown",
   "id": "0bcb4315",
   "metadata": {},
   "source": [
    "Calculate the square root of a number.\n"
   ]
  },
  {
   "cell_type": "code",
   "execution_count": 103,
   "id": "1ffc86be",
   "metadata": {},
   "outputs": [
    {
     "name": "stdout",
     "output_type": "stream",
     "text": [
      "square root value :  15.968719422671311\n"
     ]
    }
   ],
   "source": [
    "n = 255\n",
    "sqr = n**0.5\n",
    "print(\"square root value : \",sqr)"
   ]
  },
  {
   "cell_type": "markdown",
   "id": "3b8743eb",
   "metadata": {},
   "source": [
    "Calculate the value of a raised to the power of b.\n"
   ]
  },
  {
   "cell_type": "code",
   "execution_count": 105,
   "id": "d278563f",
   "metadata": {},
   "outputs": [
    {
     "name": "stdout",
     "output_type": "stream",
     "text": [
      "Value of a raised to power b is : 100\n"
     ]
    }
   ],
   "source": [
    "a = 10\n",
    "b = 2\n",
    "value = a**b\n",
    "print(\"Value of a raised to power b is :\",value)\n"
   ]
  },
  {
   "cell_type": "code",
   "execution_count": null,
   "id": "41c65c05",
   "metadata": {},
   "outputs": [],
   "source": []
  },
  {
   "cell_type": "markdown",
   "id": "d06e7a77",
   "metadata": {},
   "source": [
    "Round a float to the nearest integer."
   ]
  },
  {
   "cell_type": "code",
   "execution_count": 106,
   "id": "2f5873c3",
   "metadata": {},
   "outputs": [
    {
     "data": {
      "text/plain": [
       "5"
      ]
     },
     "execution_count": 106,
     "metadata": {},
     "output_type": "execute_result"
    }
   ],
   "source": [
    "f = 5.456757\n",
    "\n",
    "value = round(f)\n",
    "\n",
    "value"
   ]
  },
  {
   "cell_type": "markdown",
   "id": "34f33237",
   "metadata": {},
   "source": [
    "Combine multiple conditions using logical operators and print the result."
   ]
  },
  {
   "cell_type": "code",
   "execution_count": 112,
   "id": "687d14b0",
   "metadata": {},
   "outputs": [
    {
     "name": "stdout",
     "output_type": "stream",
     "text": [
      "1.6\n",
      "False\n",
      "13\n",
      "False\n"
     ]
    }
   ],
   "source": [
    "x = 8\n",
    "y = 5\n",
    "\n",
    "z1 = ((x>=6) and (x/y))\n",
    "z2 = ((x<=5) and (x/y))\n",
    "z3 = ((x >8) or (x + y))\n",
    "z4 = (not x)\n",
    "\n",
    "print(z1)\n",
    "print(z2)\n",
    "print(z3)\n",
    "print(z4)"
   ]
  },
  {
   "cell_type": "markdown",
   "id": "ab20128b",
   "metadata": {},
   "source": [
    "Generate a random number between 1 and 100.**(challenging)**\n"
   ]
  },
  {
   "cell_type": "code",
   "execution_count": 133,
   "id": "43ac553b",
   "metadata": {},
   "outputs": [
    {
     "data": {
      "text/plain": [
       "97"
      ]
     },
     "execution_count": 133,
     "metadata": {},
     "output_type": "execute_result"
    }
   ],
   "source": [
    "import random\n",
    "x = random.randint(1,100)\n",
    "x"
   ]
  },
  {
   "cell_type": "code",
   "execution_count": null,
   "id": "08b1a18f",
   "metadata": {},
   "outputs": [],
   "source": []
  },
  {
   "cell_type": "code",
   "execution_count": null,
   "id": "614ec84c",
   "metadata": {},
   "outputs": [],
   "source": []
  }
 ],
 "metadata": {
  "kernelspec": {
   "display_name": "Python 3 (ipykernel)",
   "language": "python",
   "name": "python3"
  },
  "language_info": {
   "codemirror_mode": {
    "name": "ipython",
    "version": 3
   },
   "file_extension": ".py",
   "mimetype": "text/x-python",
   "name": "python",
   "nbconvert_exporter": "python",
   "pygments_lexer": "ipython3",
   "version": "3.11.5"
  }
 },
 "nbformat": 4,
 "nbformat_minor": 5
}
